{
  "nbformat": 4,
  "nbformat_minor": 0,
  "metadata": {
    "colab": {
      "private_outputs": true,
      "provenance": [],
      "authorship_tag": "ABX9TyMIgxw0M+uPU1eT5tUdEyFa",
      "include_colab_link": true
    },
    "kernelspec": {
      "name": "python3",
      "display_name": "Python 3"
    },
    "language_info": {
      "name": "python"
    }
  },
  "cells": [
    {
      "cell_type": "markdown",
      "metadata": {
        "id": "view-in-github",
        "colab_type": "text"
      },
      "source": [
        "<a href=\"https://colab.research.google.com/github/CodeHunterOfficial/ABCD_ASPNETCORE/blob/main/TimeSeries/TimeSeries-2025/%D0%98%D1%81%D1%82%D0%BE%D1%87%D0%BD%D0%B8%D0%BA%D0%B8_%D0%B4%D0%B0%D0%BD%D0%BD%D1%8B%D1%85.ipynb\" target=\"_parent\"><img src=\"https://colab.research.google.com/assets/colab-badge.svg\" alt=\"Open In Colab\"/></a>"
      ]
    },
    {
      "cell_type": "markdown",
      "source": [
        "\n",
        "\n",
        "## 📊 1. Финансовые и экономические данные\n",
        "\n",
        "Подходят для моделей ARIMA, Prophet, LSTM, CatBoost.\n",
        "\n",
        "| Источник                                               | Тип данных                  | Доступ                                                                    | Примечания                             |\n",
        "| ------------------------------------------------------ | --------------------------- | ------------------------------------------------------------------------- | -------------------------------------- |\n",
        "| [Yahoo Finance](https://finance.yahoo.com/)            | Акции, валюты, криптовалюты | `yfinance` (Python API)                                                   | Исторические данные (минуты/дни/годы). |\n",
        "| [Investing.com](https://www.investing.com/)            | Валюты, нефть, индексы      | HTML-парсинг / [RapidAPI](https://rapidapi.com/apidojo/api/investing-com) | Макроэкономика, котировки.             |\n",
        "| [Quandl / Nasdaq Data Link](https://data.nasdaq.com/)  | Экономика, биржи, крипто    | Бесплатное API (регистрация)                                              | Удобно для макроэкономики.             |\n",
        "| [Мосбиржа (MOEX)](https://iss.moex.com/iss/reference/) | Акции, облигации РФ         | API/JSON                                                                  | Есть готовые выгрузки.                 |\n",
        "| [ЦБ РФ](https://www.cbr.ru/development/SXML/)          | Курсы валют                 | XML/API                                                                   | Официальные ежедневные курсы.          |\n",
        "\n",
        "\n",
        "\n",
        "## 🌦️ 2. Погода и климат\n",
        "\n",
        "Для сезонных рядов, прогнозов температуры, осадков.\n",
        "\n",
        "| Источник                                                                                                        | Тип данных                          | Доступ           |\n",
        "| --------------------------------------------------------------------------------------------------------------- | ----------------------------------- | ---------------- |\n",
        "| [NOAA NCEI](https://www.ncei.noaa.gov/)                                                                         | Глобальные исторические метеоданные | FTP/CSV          |\n",
        "| [OpenWeatherMap](https://openweathermap.org/api)                                                                | Текущая и историческая погода       | API (нужен ключ) |\n",
        "| [GHCN Daily](https://www.ncei.noaa.gov/products/land-based-station/global-historical-climatology-network-daily) | Температуры, осадки                 | CSV/FTP          |\n",
        "\n",
        "\n",
        "\n",
        "## 🛒 3. Продажи и экономика реального мира\n",
        "\n",
        "Для прогнозирования спроса, цен, маркетинга.\n",
        "\n",
        "| Источник                                                                                                    | Тип данных                      | Доступ                                               |\n",
        "| ----------------------------------------------------------------------------------------------------------- | ------------------------------- | ---------------------------------------------------- |\n",
        "| [Google Trends](https://trends.google.com/)                                                                 | Популярность поисковых запросов | [pytrends](https://github.com/GeneralMills/pytrends) |\n",
        "| [Rossmann Store Sales](https://www.kaggle.com/competitions/rossmann-store-sales)                            | Продажи магазинов               | Kaggle                                               |\n",
        "| [Walmart Sales Forecasting](https://www.kaggle.com/competitions/walmart-recruiting-store-sales-forecasting) | Продажи                         | Kaggle                                               |\n",
        "| [Retailrocket](https://www.kaggle.com/datasets/retailrocket/ecommerce-dataset)                              | E-commerce события              | Kaggle                                               |\n",
        "\n",
        "## 🚌 4. Транспорт и мобильность\n",
        "\n",
        "| Источник                                                                          | Тип данных                    | Доступ            |\n",
        "| --------------------------------------------------------------------------------- | ----------------------------- | ----------------- |\n",
        "| [NYC Taxi Trips](https://www.nyc.gov/assets/tlc/pages/about/tlc-trip-record-data) | Поездки такси (по часам/дням) | CSV               |\n",
        "| [Uber Movement](https://movement.uber.com/)                                       | Скорости движения в городах   | CSV/API           |\n",
        "| [Яндекс.Транспорт](https://yandex.ru/dev/transport/)                              | Метро, автобусы, трафик       | API (ограничения) |\n",
        "\n",
        "\n",
        "\n",
        "## 🧠 5. Соцсети и пользовательская активность\n",
        "\n",
        "| Источник                                               | Тип данных                | Доступ     |\n",
        "| ------------------------------------------------------ | ------------------------- | ---------- |\n",
        "| [Twitter/X API](https://developer.twitter.com/en/docs) | Посты, тренды, хэштеги    | API (ключ) |\n",
        "| [Reddit API](https://www.reddit.com/dev/api/)          | Комментарии, сабреддиты   | API        |\n",
        "| [VK API](https://vk.com/dev)                           | Посты, лайки, комментарии | API        |\n",
        "\n",
        "\n",
        "\n",
        "## 🗃️ 6. Готовые датасеты (без парсинга)\n",
        "\n",
        "Если парсинг не обязателен, можно брать готовые временные ряды:\n",
        "\n",
        "* 📂 [Kaggle Time Series](https://www.kaggle.com/datasets?search=time+series) — большая коллекция по разным темам.\n",
        "* 📂 [UCI Machine Learning Repository](https://archive.ics.uci.edu/) — энергетика, трафик, медицина.\n",
        "* 📂 [M4/M5 Forecasting Competition](https://www.kaggle.com/competitions/m5-forecasting-accuracy) — эталонные ряды для соревнований.\n",
        "\n",
        "\n",
        "\n",
        "## 🤗 7. Hugging Face Datasets\n",
        "\n",
        "На [Hugging Face Datasets](https://huggingface.co/datasets) уже есть множество временных рядов — удобно для быстрого старта без собственного парсинга.\n"
      ],
      "metadata": {
        "id": "zxjoVK5ZbmSu"
      }
    }
  ]
}